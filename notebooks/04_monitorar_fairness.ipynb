{
 "cells": [
  {
   "cell_type": "markdown",
   "id": "6bf206e5",
   "metadata": {},
   "source": [
    "Monitoramento e Fairness"
   ]
  },
  {
   "cell_type": "code",
   "execution_count": 51,
   "id": "b9e009a6",
   "metadata": {},
   "outputs": [],
   "source": [
    "import pandas as pd \n",
    "import joblib\n",
    "from sklearn.metrics import classification_report, confusion_matrix\n",
    "import matplotlib.pyplot as plt\n",
    "import seaborn as sns\n",
    "import os"
   ]
  },
  {
   "cell_type": "markdown",
   "id": "ea4c7fec",
   "metadata": {},
   "source": [
    "Carregar modelo e vetor já treinados"
   ]
  },
  {
   "cell_type": "code",
   "execution_count": 52,
   "id": "e872187c",
   "metadata": {},
   "outputs": [
    {
     "data": {
      "text/html": [
       "<div>\n",
       "<style scoped>\n",
       "    .dataframe tbody tr th:only-of-type {\n",
       "        vertical-align: middle;\n",
       "    }\n",
       "\n",
       "    .dataframe tbody tr th {\n",
       "        vertical-align: top;\n",
       "    }\n",
       "\n",
       "    .dataframe thead th {\n",
       "        text-align: right;\n",
       "    }\n",
       "</style>\n",
       "<table border=\"1\" class=\"dataframe\">\n",
       "  <thead>\n",
       "    <tr style=\"text-align: right;\">\n",
       "      <th></th>\n",
       "      <th>text</th>\n",
       "      <th>label</th>\n",
       "      <th>text_length</th>\n",
       "    </tr>\n",
       "  </thead>\n",
       "  <tbody>\n",
       "    <tr>\n",
       "      <th>0</th>\n",
       "      <td>Adorei o produto de investimentos no mercado d...</td>\n",
       "      <td>positivo</td>\n",
       "      <td>56</td>\n",
       "    </tr>\n",
       "    <tr>\n",
       "      <th>1</th>\n",
       "      <td>O serviço de instalação internet doi péssimo. ...</td>\n",
       "      <td>negativo</td>\n",
       "      <td>59</td>\n",
       "    </tr>\n",
       "    <tr>\n",
       "      <th>2</th>\n",
       "      <td>Entrega rápida com atendimento excelente</td>\n",
       "      <td>positivo</td>\n",
       "      <td>40</td>\n",
       "    </tr>\n",
       "    <tr>\n",
       "      <th>3</th>\n",
       "      <td>Não voltarei a comprar</td>\n",
       "      <td>negativo</td>\n",
       "      <td>22</td>\n",
       "    </tr>\n",
       "    <tr>\n",
       "      <th>4</th>\n",
       "      <td>Adorei o produto, superou minhas expectativas!</td>\n",
       "      <td>positivo</td>\n",
       "      <td>46</td>\n",
       "    </tr>\n",
       "  </tbody>\n",
       "</table>\n",
       "</div>"
      ],
      "text/plain": [
       "                                                text     label  text_length\n",
       "0  Adorei o produto de investimentos no mercado d...  positivo           56\n",
       "1  O serviço de instalação internet doi péssimo. ...  negativo           59\n",
       "2           Entrega rápida com atendimento excelente  positivo           40\n",
       "3                             Não voltarei a comprar  negativo           22\n",
       "4     Adorei o produto, superou minhas expectativas!  positivo           46"
      ]
     },
     "metadata": {},
     "output_type": "display_data"
    }
   ],
   "source": [
    "modelo_path = '../model.joblib'\n",
    "vetor_path = '../vectorizer.joblib'\n",
    "dados_path = '../data/tweets_limpo.csv'\n",
    "\n",
    "if not (os.path.exists(modelo_path) and os.path.exists(vetor_path)):\n",
    "    raise FileExistsError('Treine e salve o modelo antes de executar!')\n",
    "\n",
    "model = joblib.load(modelo_path)\n",
    "vectorizer = joblib.load(vetor_path)\n",
    "df = pd.read_csv(dados_path)\n",
    "display(df.head())"
   ]
  },
  {
   "cell_type": "markdown",
   "id": "25f7207c",
   "metadata": {},
   "source": [
    "Monitoramento"
   ]
  },
  {
   "cell_type": "code",
   "execution_count": 53,
   "id": "cdb12576",
   "metadata": {},
   "outputs": [
    {
     "data": {
      "text/html": [
       "<div>\n",
       "<style scoped>\n",
       "    .dataframe tbody tr th:only-of-type {\n",
       "        vertical-align: middle;\n",
       "    }\n",
       "\n",
       "    .dataframe tbody tr th {\n",
       "        vertical-align: top;\n",
       "    }\n",
       "\n",
       "    .dataframe thead th {\n",
       "        text-align: right;\n",
       "    }\n",
       "</style>\n",
       "<table border=\"1\" class=\"dataframe\">\n",
       "  <thead>\n",
       "    <tr style=\"text-align: right;\">\n",
       "      <th></th>\n",
       "      <th>text</th>\n",
       "    </tr>\n",
       "  </thead>\n",
       "  <tbody>\n",
       "    <tr>\n",
       "      <th>0</th>\n",
       "      <td>Muito ruim, não gostei do atendimento.</td>\n",
       "    </tr>\n",
       "    <tr>\n",
       "      <th>1</th>\n",
       "      <td>A entrega foi sensacional!</td>\n",
       "    </tr>\n",
       "    <tr>\n",
       "      <th>2</th>\n",
       "      <td>Não funcionou, me decepcionei.</td>\n",
       "    </tr>\n",
       "    <tr>\n",
       "      <th>3</th>\n",
       "      <td>Recomendo para todos, nota 10!</td>\n",
       "    </tr>\n",
       "    <tr>\n",
       "      <th>4</th>\n",
       "      <td>Recomendo para todos, top!</td>\n",
       "    </tr>\n",
       "  </tbody>\n",
       "</table>\n",
       "</div>"
      ],
      "text/plain": [
       "                                     text\n",
       "0  Muito ruim, não gostei do atendimento.\n",
       "1              A entrega foi sensacional!\n",
       "2          Não funcionou, me decepcionei.\n",
       "3          Recomendo para todos, nota 10!\n",
       "4              Recomendo para todos, top!"
      ]
     },
     "metadata": {},
     "output_type": "display_data"
    }
   ],
   "source": [
    "novos_textos = [\n",
    "'Muito ruim, não gostei do atendimento.',\n",
    "'A entrega foi sensacional!',\n",
    "'Não funcionou, me decepcionei.',\n",
    "'Recomendo para todos, nota 10!',\n",
    "'Recomendo para todos, top!'\n",
    "]\n",
    "\n",
    "novos_df = pd.DataFrame({'text': novos_textos})\n",
    "display(novos_df)"
   ]
  },
  {
   "cell_type": "markdown",
   "id": "1dfc3f91",
   "metadata": {},
   "source": [
    "Vetorizar e predição"
   ]
  },
  {
   "cell_type": "markdown",
   "id": "8e9f0513",
   "metadata": {},
   "source": []
  },
  {
   "cell_type": "code",
   "execution_count": 54,
   "id": "771332b5",
   "metadata": {},
   "outputs": [
    {
     "name": "stdout",
     "output_type": "stream",
     "text": [
      "                                     text sentimento_predito\n",
      "0  Muito ruim, não gostei do atendimento.           negativo\n",
      "1              A entrega foi sensacional!           positivo\n",
      "2          Não funcionou, me decepcionei.           negativo\n",
      "3          Recomendo para todos, nota 10!           positivo\n",
      "4              Recomendo para todos, top!           positivo\n"
     ]
    }
   ],
   "source": [
    "novos_vetores = vectorizer.transform(novos_df['text'])\n",
    "novos_preds = model.predict(novos_vetores)\n",
    "novos_df['sentimento_predito'] = novos_preds\n",
    "print(novos_df)"
   ]
  },
  {
   "cell_type": "markdown",
   "id": "98374cd0",
   "metadata": {},
   "source": [
    "Porcentagem de cada classe"
   ]
  },
  {
   "cell_type": "code",
   "execution_count": 55,
   "id": "71ef5df8",
   "metadata": {},
   "outputs": [
    {
     "name": "stdout",
     "output_type": "stream",
     "text": [
      "Distribuição dos sentimentos preditos no novos dados:\n",
      "sentimento_predito\n",
      "positivo    0.6\n",
      "negativo    0.4\n",
      "Name: proportion, dtype: float64\n"
     ]
    }
   ],
   "source": [
    "class_dist = novos_df['sentimento_predito'].value_counts(normalize=True)\n",
    "print('Distribuição dos sentimentos preditos no novos dados:')\n",
    "print(class_dist)"
   ]
  },
  {
   "cell_type": "markdown",
   "id": "93bb384a",
   "metadata": {},
   "source": [
    "Fairness - Vieses"
   ]
  },
  {
   "cell_type": "code",
   "execution_count": 56,
   "id": "496eed93",
   "metadata": {},
   "outputs": [
    {
     "data": {
      "text/plain": [
       "0     medio\n",
       "1     medio\n",
       "2     curto\n",
       "3     curto\n",
       "4     curto\n",
       "5     curto\n",
       "6     curto\n",
       "7     curto\n",
       "8     curto\n",
       "9     curto\n",
       "10    curto\n",
       "11    curto\n",
       "12    curto\n",
       "13    curto\n",
       "14    curto\n",
       "15    curto\n",
       "Name: len_category, dtype: category\n",
       "Categories (3, object): ['curto' < 'medio' < 'longo']"
      ]
     },
     "metadata": {},
     "output_type": "display_data"
    }
   ],
   "source": [
    "df['text_len'] = df['text'].apply(len)\n",
    "df['len_category'] = pd.cut(df['text_len'], bins=[0,50,150,1000], labels=['curto', 'medio', 'longo'])\n",
    "display(df['len_category'])\n"
   ]
  },
  {
   "cell_type": "markdown",
   "id": "3911014c",
   "metadata": {},
   "source": [
    "Predições conjunto de validação"
   ]
  },
  {
   "cell_type": "code",
   "execution_count": 57,
   "id": "34a3adae",
   "metadata": {},
   "outputs": [
    {
     "data": {
      "text/plain": [
       "0     positivo\n",
       "1     negativo\n",
       "2     positivo\n",
       "3     negativo\n",
       "4     positivo\n",
       "5     negativo\n",
       "6     positivo\n",
       "7     negativo\n",
       "8     positivo\n",
       "9     negativo\n",
       "10    positivo\n",
       "11    negativo\n",
       "12    positivo\n",
       "13    positivo\n",
       "14    positivo\n",
       "15    negativo\n",
       "Name: pred, dtype: object"
      ]
     },
     "metadata": {},
     "output_type": "display_data"
    }
   ],
   "source": [
    "vetores = vectorizer.transform(df['text'])\n",
    "df['pred'] = model.predict(vetores)\n",
    "display(df['pred'])"
   ]
  },
  {
   "cell_type": "markdown",
   "id": "54d292ca",
   "metadata": {},
   "source": [
    "Avaliação de acurácia"
   ]
  },
  {
   "cell_type": "code",
   "execution_count": 58,
   "id": "06474807",
   "metadata": {},
   "outputs": [
    {
     "name": "stdout",
     "output_type": "stream",
     "text": [
      "Acurácia para os textos medio: 1.00 (N=2)\n",
      "Acurácia para os textos curto: 1.00 (N=14)\n"
     ]
    }
   ],
   "source": [
    "for cat in df['len_category'].unique():\n",
    "    subset = df[df['len_category'] == cat]\n",
    "    if not subset.empty:\n",
    "        acuracia = (subset['label'] == subset['pred']).mean()\n",
    "        print(f'Acurácia para os textos {cat}: {acuracia:.2f} (N={len(subset)})')"
   ]
  },
  {
   "cell_type": "markdown",
   "id": "9c59f0ee",
   "metadata": {},
   "source": [
    "Desafio fairness"
   ]
  },
  {
   "cell_type": "code",
   "execution_count": null,
   "id": "3bbb44f5",
   "metadata": {},
   "outputs": [],
   "source": [
    "for cat in df['len_category'].unique():\n",
    "    subset = df[df['len_category'] == cat]\n",
    "    if not subset.empty:\n",
    "        print(f'Matriz de confusão para textos {cat}:')\n",
    "        print(confusion_matrix(subset['label', subset[\"pred\"]]))\n",
    "        sns.heatmap(confusion_matrix(subset['label', subset[\"pred\"]]),\n",
    "                    annot=True, fmt='d', cmap='Blues',\n",
    "                    xticklabels=['negativo', 'positivo'],\n",
    "                    yticklabels=['ngativo','positivo'])\n",
    "        plt.title(f'Textos {cat}')\n",
    "        plt.xlabel('Predito')\n",
    "        plt.ylabel('Real')\n",
    "        plt.show()"
   ]
  }
 ],
 "metadata": {
  "kernelspec": {
   "display_name": ".venv",
   "language": "python",
   "name": "python3"
  },
  "language_info": {
   "codemirror_mode": {
    "name": "ipython",
    "version": 3
   },
   "file_extension": ".py",
   "mimetype": "text/x-python",
   "name": "python",
   "nbconvert_exporter": "python",
   "pygments_lexer": "ipython3",
   "version": "3.11.8"
  }
 },
 "nbformat": 4,
 "nbformat_minor": 5
}
